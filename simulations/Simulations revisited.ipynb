{
 "cells": [
  {
   "cell_type": "markdown",
   "id": "4b86e4d7",
   "metadata": {},
   "source": [
    "# PsrPopPy analysis\n",
    "### Based on the discoveries yielded by MGPS-L so far, there was a need to revisit the simulations."
   ]
  },
  {
   "cell_type": "markdown",
   "id": "9a1a9042",
   "metadata": {},
   "source": [
    "Strategy:"
   ]
  },
  {
   "cell_type": "markdown",
   "id": "ca111e22",
   "metadata": {},
   "source": [
    "1. Redo the simulations by giving the actual pointings observed so far as an initial constraint (Done)\n",
    "2. Supply actual beam tiling applied. (Done)\n",
    "3. Rework the SNR based on : (Modelled the psf as 2D Gaussian)\n",
    "\n",
    "\n",
    "      a) calculation of offset from the actual psf of the snr degradation \n",
    "      \n",
    "      b) Replace this value with the old offset degradation factor\n",
    "      \n",
    "      c) Check if new pulsar SNR > SNR limit . If so, keep the discovery"
   ]
  },
  {
   "cell_type": "code",
   "execution_count": 1,
   "id": "421691b9",
   "metadata": {},
   "outputs": [],
   "source": [
    "#True psf work in progress"
   ]
  },
  {
   "cell_type": "markdown",
   "id": "efaa129f",
   "metadata": {},
   "source": [
    "## Some stats \n",
    "### 1. Canonical pulsars"
   ]
  },
  {
   "cell_type": "code",
   "execution_count": 1,
   "id": "b969b0bf",
   "metadata": {},
   "outputs": [],
   "source": [
    "import glob\n",
    "from ast import literal_eval\n",
    "import numpy as np\n",
    "import matplotlib.pyplot as plt"
   ]
  },
  {
   "cell_type": "code",
   "execution_count": 2,
   "id": "6152dcba",
   "metadata": {},
   "outputs": [],
   "source": [
    "def file_len(fname):\n",
    "    with open(fname) as f:\n",
    "        for i, l in enumerate(f):\n",
    "            pass\n",
    "    f.close()    \n",
    "    return i + 1 "
   ]
  },
  {
   "cell_type": "code",
   "execution_count": 3,
   "id": "9d659df3",
   "metadata": {},
   "outputs": [
    {
     "name": "stdout",
     "output_type": "stream",
     "text": [
      "Average number of discoveries based on pointing constraint alone 484.84158415841586 +/- 25.066933239726346\n"
     ]
    }
   ],
   "source": [
    "# Number of discoveries based on pointing constraints alone\n",
    "rd1_numbers=[]\n",
    "rd1_discovery_files = glob.glob('canonical_discovery_files_round1/*.discoveries')\n",
    "\n",
    "for rd1_file in rd1_discovery_files:\n",
    "    rd1_numbers.append(file_len(rd1_file))\n",
    "    \n",
    "print('Average number of discoveries based on pointing constraint alone {} +/- {}'.format(np.mean(np.array(rd1_numbers)), np.std(np.array(rd1_numbers))))"
   ]
  },
  {
   "cell_type": "code",
   "execution_count": 4,
   "id": "f6ff64e4",
   "metadata": {},
   "outputs": [
    {
     "name": "stdout",
     "output_type": "stream",
     "text": [
      "True number of discoveries expected 155.37623762376236 +/- 12.487499876727036\n"
     ]
    }
   ],
   "source": [
    "# Number of discoveries based on pointing + beam constraints accounting for 2D Gaussian modelling of synthesised beam\n",
    "rd2_numbers=[]\n",
    "rd2_discovery_files = glob.glob('true_canonical_discoveries/*.txt')\n",
    "\n",
    "for rd2_file in rd2_discovery_files:\n",
    "    rd2_numbers.append(file_len(rd2_file))\n",
    "    \n",
    "print('True number of discoveries expected {} +/- {}'.format(np.mean(np.array(rd2_numbers)), np.std(np.array(rd2_numbers))))"
   ]
  },
  {
   "cell_type": "code",
   "execution_count": 5,
   "id": "f86f1670",
   "metadata": {},
   "outputs": [
    {
     "name": "stdout",
     "output_type": "stream",
     "text": [
      "Average number of discoveries based on pointing constraint alone 32.25 +/- 5.8934671073532385\n"
     ]
    }
   ],
   "source": [
    "# Number of discoveries based on pointing constraints alone\n",
    "rd1_numbers=[]\n",
    "rd1_discovery_files = glob.glob('msp_discovery_round1/*.discoveries')\n",
    "\n",
    "for rd1_file in rd1_discovery_files:\n",
    "    rd1_numbers.append(file_len(rd1_file))\n",
    "    \n",
    "print('Average number of discoveries based on pointing constraint alone {} +/- {}'.format(np.mean(np.array(rd1_numbers)), np.std(np.array(rd1_numbers))))"
   ]
  },
  {
   "cell_type": "code",
   "execution_count": 6,
   "id": "d3d13ee9",
   "metadata": {},
   "outputs": [
    {
     "name": "stdout",
     "output_type": "stream",
     "text": [
      "True number of discoveries expected 10.931818181818182 +/- 3.550913629378471\n"
     ]
    }
   ],
   "source": [
    "# Number of discoveries based on pointing + beam constraints accounting for 2D Gaussian modelling of synthesised beam\n",
    "rd2_numbers=[]\n",
    "rd2_discovery_files = glob.glob('true_msp_discoveries/*.txt')\n",
    "\n",
    "for rd2_file in rd2_discovery_files:\n",
    "    rd2_numbers.append(file_len(rd2_file))\n",
    "    \n",
    "print('True number of discoveries expected {} +/- {}'.format(np.mean(np.array(rd2_numbers)), np.std(np.array(rd2_numbers))))"
   ]
  },
  {
   "cell_type": "markdown",
   "id": "f00e41af",
   "metadata": {},
   "source": [
    "#### Period and DM distributions  "
   ]
  },
  {
   "cell_type": "code",
   "execution_count": 10,
   "id": "5b273d2d",
   "metadata": {},
   "outputs": [],
   "source": [
    "spin_periods=[]\n",
    "dms=[]\n",
    "final_snrs=[]    "
   ]
  },
  {
   "cell_type": "code",
   "execution_count": 11,
   "id": "4bcf9db1",
   "metadata": {},
   "outputs": [],
   "source": [
    "rd2_discovery_files = glob.glob('true_canonical_discoveries/*.txt')\n",
    "for rd2_file in rd2_discovery_files:\n",
    "    with open(rd2_file) as f:\n",
    "        for i, l in enumerate(f):\n",
    "            spin_periods.append((literal_eval(l)[0]))\n",
    "            dms.append((literal_eval(l)[1]))\n",
    "            final_snrs.append((literal_eval(l)[-1]))\n",
    "            \n",
    "            \n",
    "            "
   ]
  },
  {
   "cell_type": "code",
   "execution_count": 12,
   "id": "7e80f3f0",
   "metadata": {},
   "outputs": [
    {
     "data": {
      "text/plain": [
       "Text(0.5, 1.0, 'Spin periods of true discoveries across all populations')"
      ]
     },
     "execution_count": 12,
     "metadata": {},
     "output_type": "execute_result"
    },
    {
     "data": {
      "image/png": "[encoded data removed]",
      "text/plain": [
       "<Figure size 432x288 with 1 Axes>"
      ]
     },
     "metadata": {
      "needs_background": "light"
     },
     "output_type": "display_data"
    }
   ],
   "source": [
    "plt.hist(spin_periods,bins=100)\n",
    "plt.xlabel('Spin period (ms)')\n",
    "plt.ylabel('Counts')\n",
    "plt.title('Spin periods of true discoveries across all populations')"
   ]
  },
  {
   "cell_type": "code",
   "execution_count": 13,
   "id": "eb891697",
   "metadata": {},
   "outputs": [
    {
     "data": {
      "text/plain": [
       "Text(0.5, 1.0, 'DM of true discoveries across all populations')"
      ]
     },
     "execution_count": 13,
     "metadata": {},
     "output_type": "execute_result"
    },
    {
     "data": {
      "image/png": "[encoded data removed]",
      "text/plain": [
       "<Figure size 432x288 with 1 Axes>"
      ]
     },
     "metadata": {
      "needs_background": "light"
     },
     "output_type": "display_data"
    }
   ],
   "source": [
    "plt.hist(dms,bins=100)\n",
    "plt.xlabel('DM')\n",
    "plt.ylabel('Counts')\n",
    "plt.title('DM of true discoveries across all populations')"
   ]
  },
  {
   "cell_type": "code",
   "execution_count": 14,
   "id": "8732c2d8",
   "metadata": {},
   "outputs": [
    {
     "data": {
      "text/plain": [
       "Text(0.5, 1.0, 'SNR of true discoveries across all populations')"
      ]
     },
     "execution_count": 14,
     "metadata": {},
     "output_type": "execute_result"
    },
    {
     "data": {
      "image/png": "[encoded data removed]",
      "text/plain": [
       "<Figure size 432x288 with 1 Axes>"
      ]
     },
     "metadata": {
      "needs_background": "light"
     },
     "output_type": "display_data"
    }
   ],
   "source": [
    "plt.hist(final_snrs, bins=100)\n",
    "plt.xlabel('SNR')\n",
    "plt.ylabel('Counts')\n",
    "plt.title('SNR of true discoveries across all populations')"
   ]
  },
  {
   "cell_type": "code",
   "execution_count": 18,
   "id": "9ca38241",
   "metadata": {},
   "outputs": [
    {
     "name": "stdout",
     "output_type": "stream",
     "text": [
      "Average number of pulsars expected for SNR threshold of 12.5 is: 64\n"
     ]
    }
   ],
   "source": [
    "no_of_pops = len(rd2_discovery_files)\n",
    "print (\"Average number of pulsars expected for SNR threshold of 12.5 is: {}\".format(int(sum(0.7*np.array(final_snrs) > 10)/(no_of_pops))))"
   ]
  },
  {
   "cell_type": "markdown",
   "id": "1cd26e28",
   "metadata": {},
   "source": [
    "Assuming a search efficiency factor of 0.7 based on Morello et al. 2020, we check the number of pulsars detected for different SNR thresholds"
   ]
  },
  {
   "cell_type": "code",
   "execution_count": 16,
   "id": "ed5ce144",
   "metadata": {},
   "outputs": [],
   "source": [
    "snr_thresholds = np.arange(9,60,1)\n",
    "N_pulsars = [sum(0.7*np.array(final_snrs) > t)/(no_of_pops) for t in snr_thresholds]"
   ]
  },
  {
   "cell_type": "code",
   "execution_count": 17,
   "id": "578e6d7b",
   "metadata": {},
   "outputs": [
    {
     "data": {
      "image/png": "[encoded data removed]",
      "text/plain": [
       "<Figure size 432x288 with 1 Axes>"
      ]
     },
     "metadata": {
      "needs_background": "light"
     },
     "output_type": "display_data"
    }
   ],
   "source": [
    "plt.plot(snr_thresholds, N_pulsars)\n",
    "plt.xlabel('SNR threshold')\n",
    "plt.ylabel('N pulsars')\n",
    "plt.yscale('log')\n",
    "#plt.xscale('log')"
   ]
  },
  {
   "cell_type": "markdown",
   "id": "01ab3532",
   "metadata": {},
   "source": [
    "### MSPs"
   ]
  },
  {
   "cell_type": "code",
   "execution_count": 19,
   "id": "4feaa2fc",
   "metadata": {},
   "outputs": [],
   "source": [
    "msp_snrs=[]\n",
    "msp_dms=[]\n",
    "msp_periods=[]"
   ]
  },
  {
   "cell_type": "code",
   "execution_count": 20,
   "id": "2b601d71",
   "metadata": {},
   "outputs": [],
   "source": [
    "rd2_discovery_files = glob.glob('true_msp_discoveries/*.txt')\n",
    "for rd2_file in rd2_discovery_files:\n",
    "    with open(rd2_file) as f:\n",
    "        for i, l in enumerate(f):\n",
    "            msp_periods.append((literal_eval(l)[0]))\n",
    "            msp_dms.append((literal_eval(l)[1]))\n",
    "            msp_snrs.append((literal_eval(l)[-1]))"
   ]
  },
  {
   "cell_type": "code",
   "execution_count": 21,
   "id": "99f1a973",
   "metadata": {},
   "outputs": [
    {
     "data": {
      "text/plain": [
       "Text(0.5, 1.0, 'Spin periods of true discoveries across all MSP populations')"
      ]
     },
     "execution_count": 21,
     "metadata": {},
     "output_type": "execute_result"
    },
    {
     "data": {
      "image/png": "[encoded data removed]",
      "text/plain": [
       "<Figure size 432x288 with 1 Axes>"
      ]
     },
     "metadata": {
      "needs_background": "light"
     },
     "output_type": "display_data"
    }
   ],
   "source": [
    "plt.hist(msp_periods,bins=100)\n",
    "plt.xlabel('Spin period (ms)')\n",
    "plt.ylabel('Counts')\n",
    "plt.title('Spin periods of true discoveries across all MSP populations')"
   ]
  },
  {
   "cell_type": "code",
   "execution_count": 22,
   "id": "32d1f0eb",
   "metadata": {},
   "outputs": [
    {
     "data": {
      "text/plain": [
       "Text(0.5, 1.0, 'DMs of true discoveries across all MSP populations')"
      ]
     },
     "execution_count": 22,
     "metadata": {},
     "output_type": "execute_result"
    },
    {
     "data": {
      "image/png": "[encoded data removed]",
      "text/plain": [
       "<Figure size 432x288 with 1 Axes>"
      ]
     },
     "metadata": {
      "needs_background": "light"
     },
     "output_type": "display_data"
    }
   ],
   "source": [
    "plt.hist(msp_dms,bins=100)\n",
    "plt.xlabel('DM (pc cm^-3)')\n",
    "plt.ylabel('Counts')\n",
    "plt.title('DMs of true discoveries across all MSP populations')"
   ]
  },
  {
   "cell_type": "code",
   "execution_count": 23,
   "id": "cd68383e",
   "metadata": {},
   "outputs": [
    {
     "data": {
      "text/plain": [
       "Text(0.5, 1.0, 'SNR of true discoveries across all MSP populations')"
      ]
     },
     "execution_count": 23,
     "metadata": {},
     "output_type": "execute_result"
    },
    {
     "data": {
      "image/png": "[encoded data removed]",
      "text/plain": [
       "<Figure size 432x288 with 1 Axes>"
      ]
     },
     "metadata": {
      "needs_background": "light"
     },
     "output_type": "display_data"
    }
   ],
   "source": [
    "plt.hist(msp_snrs, bins=100)\n",
    "plt.xlabel('SNR')\n",
    "plt.ylabel('Counts')\n",
    "plt.title('SNR of true discoveries across all MSP populations')"
   ]
  },
  {
   "cell_type": "code",
   "execution_count": 24,
   "id": "b6dbe303",
   "metadata": {},
   "outputs": [
    {
     "data": {
      "image/png": "[encoded data removed]",
      "text/plain": [
       "<Figure size 432x288 with 1 Axes>"
      ]
     },
     "metadata": {
      "needs_background": "light"
     },
     "output_type": "display_data"
    }
   ],
   "source": [
    "msp_snr_thresholds = np.arange(9,60,1)\n",
    "no_of_msp_pops = len(rd2_discovery_files)\n",
    "N_msps = [sum(0.8*np.array(final_snrs) > t)/(no_of_pops) for t in snr_thresholds]\n",
    "\n",
    "plt.plot(snr_thresholds, N_pulsars)\n",
    "plt.xlabel('MSP S/N threshold')\n",
    "plt.ylabel('N MSPs')\n",
    "plt.yscale('log')\n"
   ]
  },
  {
   "cell_type": "code",
   "execution_count": 26,
   "id": "de068fef",
   "metadata": {},
   "outputs": [
    {
     "data": {
      "text/plain": [
       "8.931818181818182"
      ]
     },
     "execution_count": 26,
     "metadata": {},
     "output_type": "execute_result"
    }
   ],
   "source": [
    "sum(0.85*np.array(msp_snrs) > 9)/no_of_msp_pops"
   ]
  },
  {
   "cell_type": "code",
   "execution_count": null,
   "id": "f35b6581",
   "metadata": {},
   "outputs": [],
   "source": []
  },
  {
   "cell_type": "code",
   "execution_count": null,
   "id": "afba1907",
   "metadata": {},
   "outputs": [],
   "source": []
  },
  {
   "cell_type": "markdown",
   "id": "4cb0d4fd",
   "metadata": {},
   "source": [
    "### Comparison of Period and DM distributions for MSPs and Canonical pulsars"
   ]
  },
  {
   "cell_type": "code",
   "execution_count": 191,
   "id": "0235868b",
   "metadata": {},
   "outputs": [
    {
     "name": "stdout",
     "output_type": "stream",
     "text": [
      "/Users/prajwalvp/MPIfR/work/MGPS/latest_psr_simulations\r\n"
     ]
    }
   ],
   "source": [
    "!pwd"
   ]
  },
  {
   "cell_type": "code",
   "execution_count": 192,
   "id": "b2541bca",
   "metadata": {},
   "outputs": [
    {
     "name": "stdout",
     "output_type": "stream",
     "text": [
      "2021-10-15T17:01:57_beam_107.png    \u001b[1m\u001b[36mmsp_discoveries\u001b[m\u001b[m\r\n",
      "MGPS-L_all_pointing_coordinates.txt \u001b[1m\u001b[36mmsp_discovery_round1\u001b[m\u001b[m\r\n",
      "MGPS_Discoveries.csv                \u001b[1m\u001b[36mnew_simulations\u001b[m\u001b[m\r\n",
      "Simulations revisited.ipynb         \u001b[1m\u001b[36mold_simulations\u001b[m\u001b[m\r\n",
      "\u001b[1m\u001b[36mcanonical_discovery_files_round1\u001b[m\u001b[m    procedure\r\n",
      "catalog_match.py                    sim_to_psf_weighter.py\r\n",
      "discovery_decider.py                \u001b[1m\u001b[36mtrue_canonical_discoveries\u001b[m\u001b[m\r\n",
      "lorimer_2015_56_msps.txt            \u001b[1m\u001b[36mtrue_msp_discoveries\u001b[m\u001b[m\r\n"
     ]
    }
   ],
   "source": [
    "!ls"
   ]
  },
  {
   "cell_type": "code",
   "execution_count": 198,
   "id": "64946bdc",
   "metadata": {},
   "outputs": [],
   "source": [
    "with open('MGPS_Discoveries.csv','r') as f:\n",
    "    data=f.readlines()\n",
    "f.close()    "
   ]
  },
  {
   "cell_type": "code",
   "execution_count": 218,
   "id": "0e70f367",
   "metadata": {},
   "outputs": [],
   "source": [
    "mgps_msp_periods = []\n",
    "mgps_msp_dms=[]\n",
    "mgps_canonical_periods = []\n",
    "mgps_canonical_dms=[]\n",
    "\n",
    "for i in range(1,len(data)):\n",
    "    if 'J1' not in data[i].split(',')[0] or '?' in data[i].split(',')[1]:\n",
    "        continue\n",
    "    if float(data[i].split(',')[1]) < 0.03 and 'J' in data[i].split(',')[0]:\n",
    "        mgps_msp_periods.append(data[i].split(',')[1])\n",
    "        mgps_msp_dms.append(data[i].split(',')[2])\n",
    "    else:\n",
    "        mgps_canonical_periods.append(data[i].split(',')[1])\n",
    "        mgps_canonical_dms.append(data[i].split(',')[2])"
   ]
  },
  {
   "cell_type": "code",
   "execution_count": 232,
   "id": "69f52e8a",
   "metadata": {},
   "outputs": [
    {
     "data": {
      "text/plain": [
       "Text(0.5, 1.0, 'Spin periods of MGPS-L MSPs')"
      ]
     },
     "execution_count": 232,
     "metadata": {},
     "output_type": "execute_result"
    },
    {
     "data": {
      "image/png": "[encoded data removed]",
      "text/plain": [
       "<Figure size 432x288 with 1 Axes>"
      ]
     },
     "metadata": {
      "needs_background": "light"
     },
     "output_type": "display_data"
    }
   ],
   "source": [
    "plt.hist(1000*np.array(mgps_msp_periods,dtype=float))\n",
    "plt.xlabel('Spin period (ms)')\n",
    "plt.ylabel('Counts')\n",
    "plt.title('Spin periods of MGPS-L MSPs')"
   ]
  },
  {
   "cell_type": "code",
   "execution_count": 233,
   "id": "9775dec6",
   "metadata": {},
   "outputs": [
    {
     "data": {
      "text/plain": [
       "Text(0.5, 1.0, 'Spin periods of MGPS-L Canonical psrs')"
      ]
     },
     "execution_count": 233,
     "metadata": {},
     "output_type": "execute_result"
    },
    {
     "data": {
      "image/png": "[encoded data removed]",
      "text/plain": [
       "<Figure size 432x288 with 1 Axes>"
      ]
     },
     "metadata": {
      "needs_background": "light"
     },
     "output_type": "display_data"
    }
   ],
   "source": [
    "plt.hist(1000*np.array(mgps_canonical_periods,dtype=float),bins=25)\n",
    "plt.xlabel('Spin period (ms)')\n",
    "plt.ylabel('Counts')\n",
    "plt.title('Spin periods of MGPS-L Canonical psrs')"
   ]
  },
  {
   "cell_type": "markdown",
   "id": "9932b379",
   "metadata": {},
   "source": [
    "Can actual and simulation numbers be derived from the same distribution?"
   ]
  },
  {
   "cell_type": "code",
   "execution_count": 253,
   "id": "53ea6164",
   "metadata": {},
   "outputs": [
    {
     "name": "stdout",
     "output_type": "stream",
     "text": [
      "P-value for MSP spin periods:0.45034552876464284\n"
     ]
    }
   ],
   "source": [
    "from scipy.stats import ks_2samp\n",
    "msp_actual = 1000*np.array(mgps_msp_periods,dtype=float)\n",
    "msp_sim = np.array(msp_periods,dtype=float)\n",
    "\n",
    "print(\"p-value for MSP spin periods: {}\".format(ks_2samp(msp_actual, msp_sim)[1]))"
   ]
  },
  {
   "cell_type": "code",
   "execution_count": 254,
   "id": "241a9b35",
   "metadata": {},
   "outputs": [
    {
     "name": "stdout",
     "output_type": "stream",
     "text": [
      "P-value for MSP DMs: 0.017404176230557233\n"
     ]
    }
   ],
   "source": [
    "msp_dm_actual = np.array(mgps_msp_dms,dtype=float)\n",
    "msp_dm_sim = np.array(msp_dms,dtype=float)\n",
    "\n",
    "print(\"p-value for MSP DMs: {}\".format(ks_2samp(msp_dm_actual, msp_dm_sim)[1]))"
   ]
  },
  {
   "cell_type": "code",
   "execution_count": 256,
   "id": "f0fac9d0",
   "metadata": {},
   "outputs": [
    {
     "name": "stdout",
     "output_type": "stream",
     "text": [
      "p-value for canonical spin periods: 0.5130275837633171\n"
     ]
    }
   ],
   "source": [
    "canonical_actual = 1000*np.array(mgps_canonical_periods,dtype=float)\n",
    "canonical_sim = np.array(spin_periods,dtype=float)\n",
    "\n",
    "print(\"p-value for canonical spin periods: {}\".format(ks_2samp(canonical_actual, canonical_sim)[1]))"
   ]
  },
  {
   "cell_type": "code",
   "execution_count": 258,
   "id": "1e52bd96",
   "metadata": {},
   "outputs": [
    {
     "name": "stdout",
     "output_type": "stream",
     "text": [
      "p-value for canonical DMs: 0.05127323554247143\n"
     ]
    }
   ],
   "source": [
    "canonical_dm_actual = np.array(mgps_canonical_dms,dtype=float)\n",
    "canonical_dm_sim = np.array(dms,dtype=float)\n",
    "\n",
    "print(\"p-value for canonical DMs: {}\".format(ks_2samp(canonical_dm_actual, canonical_dm_sim)[1]))"
   ]
  },
  {
   "cell_type": "code",
   "execution_count": 260,
   "id": "5aed018e",
   "metadata": {},
   "outputs": [
    {
     "data": {
      "text/plain": [
       "(array([7., 5., 7., 4., 1., 4., 1., 1., 1., 1.]),\n",
       " array([  33.078 ,  150.0702,  267.0624,  384.0546,  501.0468,  618.039 ,\n",
       "         735.0312,  852.0234,  969.0156, 1086.0078, 1203.    ]),\n",
       " <BarContainer object of 10 artists>)"
      ]
     },
     "execution_count": 260,
     "metadata": {},
     "output_type": "execute_result"
    },
    {
     "data": {
      "image/png": "[encoded data removed]",
      "text/plain": [
       "<Figure size 432x288 with 1 Axes>"
      ]
     },
     "metadata": {
      "needs_background": "light"
     },
     "output_type": "display_data"
    }
   ],
   "source": [
    "plt.hist(canonical_dm_actual)"
   ]
  },
  {
   "cell_type": "code",
   "execution_count": 261,
   "id": "cb421fbb",
   "metadata": {},
   "outputs": [
    {
     "data": {
      "text/plain": [
       "(array([1.707e+03, 5.414e+03, 5.193e+03, 2.283e+03, 7.980e+02, 2.240e+02,\n",
       "        5.200e+01, 1.500e+01, 2.000e+00, 5.000e+00]),\n",
       " array([   3.54059529,  133.43653576,  263.33247623,  393.22841671,\n",
       "         523.12435718,  653.02029765,  782.91623812,  912.81217859,\n",
       "        1042.70811906, 1172.60405953, 1302.5       ]),\n",
       " <BarContainer object of 10 artists>)"
      ]
     },
     "execution_count": 261,
     "metadata": {},
     "output_type": "execute_result"
    },
    {
     "data": {
      "image/png": "[encoded data removed]",
      "text/plain": [
       "<Figure size 432x288 with 1 Axes>"
      ]
     },
     "metadata": {
      "needs_background": "light"
     },
     "output_type": "display_data"
    }
   ],
   "source": [
    "plt.hist(canonical_dm_sim)"
   ]
  },
  {
   "cell_type": "code",
   "execution_count": 262,
   "id": "aa332590",
   "metadata": {},
   "outputs": [
    {
     "data": {
      "text/plain": [
       "array([ 3.35892  ,  4.0875508,  4.277    ,  4.7383374,  5.67     ,\n",
       "        6.87     ,  7.718008 ,  8.70214  , 16.6572   , 28.71     ,\n",
       "       29.46     ])"
      ]
     },
     "execution_count": 262,
     "metadata": {},
     "output_type": "execute_result"
    }
   ],
   "source": [
    "msp_actual"
   ]
  },
  {
   "cell_type": "code",
   "execution_count": null,
   "id": "e7bd2505",
   "metadata": {},
   "outputs": [],
   "source": []
  }
 ],
 "metadata": {
  "kernelspec": {
   "display_name": "Python 3 (ipykernel)",
   "language": "python",
   "name": "python3"
  },
  "language_info": {
   "codemirror_mode": {
    "name": "ipython",
    "version": 3
   },
   "file_extension": ".py",
   "mimetype": "text/x-python",
   "name": "python",
   "nbconvert_exporter": "python",
   "pygments_lexer": "ipython3",
   "version": "3.9.7"
  }
 },
 "nbformat": 4,
 "nbformat_minor": 5
}
